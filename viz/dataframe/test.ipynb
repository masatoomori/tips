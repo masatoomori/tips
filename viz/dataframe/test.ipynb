{
 "cells": [
  {
   "cell_type": "code",
   "execution_count": 1,
   "metadata": {},
   "outputs": [],
   "source": [
    "import numpy as np\n",
    "import pandas as pd\n",
    "import matplotlib.pyplot as plt"
   ]
  },
  {
   "cell_type": "code",
   "execution_count": 2,
   "metadata": {},
   "outputs": [
    {
     "data": {
      "text/html": [
       "<div>\n",
       "<style scoped>\n",
       "    .dataframe tbody tr th:only-of-type {\n",
       "        vertical-align: middle;\n",
       "    }\n",
       "\n",
       "    .dataframe tbody tr th {\n",
       "        vertical-align: top;\n",
       "    }\n",
       "\n",
       "    .dataframe thead th {\n",
       "        text-align: right;\n",
       "    }\n",
       "</style>\n",
       "<table border=\"1\" class=\"dataframe\">\n",
       "  <thead>\n",
       "    <tr style=\"text-align: right;\">\n",
       "      <th></th>\n",
       "      <th>a</th>\n",
       "      <th>b</th>\n",
       "    </tr>\n",
       "  </thead>\n",
       "  <tbody>\n",
       "    <tr>\n",
       "      <th>0</th>\n",
       "      <td>1.703191</td>\n",
       "      <td>0.163323</td>\n",
       "    </tr>\n",
       "    <tr>\n",
       "      <th>1</th>\n",
       "      <td>-0.378239</td>\n",
       "      <td>0.339504</td>\n",
       "    </tr>\n",
       "    <tr>\n",
       "      <th>2</th>\n",
       "      <td>1.504777</td>\n",
       "      <td>-0.276439</td>\n",
       "    </tr>\n",
       "    <tr>\n",
       "      <th>3</th>\n",
       "      <td>0.657051</td>\n",
       "      <td>1.424945</td>\n",
       "    </tr>\n",
       "    <tr>\n",
       "      <th>4</th>\n",
       "      <td>1.317594</td>\n",
       "      <td>0.732926</td>\n",
       "    </tr>\n",
       "    <tr>\n",
       "      <th>...</th>\n",
       "      <td>...</td>\n",
       "      <td>...</td>\n",
       "    </tr>\n",
       "    <tr>\n",
       "      <th>995</th>\n",
       "      <td>-0.966265</td>\n",
       "      <td>0.387232</td>\n",
       "    </tr>\n",
       "    <tr>\n",
       "      <th>996</th>\n",
       "      <td>-0.127951</td>\n",
       "      <td>-0.939053</td>\n",
       "    </tr>\n",
       "    <tr>\n",
       "      <th>997</th>\n",
       "      <td>-0.610412</td>\n",
       "      <td>-0.061193</td>\n",
       "    </tr>\n",
       "    <tr>\n",
       "      <th>998</th>\n",
       "      <td>-0.208379</td>\n",
       "      <td>2.899045</td>\n",
       "    </tr>\n",
       "    <tr>\n",
       "      <th>999</th>\n",
       "      <td>0.492911</td>\n",
       "      <td>1.986106</td>\n",
       "    </tr>\n",
       "  </tbody>\n",
       "</table>\n",
       "<p>1000 rows × 2 columns</p>\n",
       "</div>"
      ],
      "text/plain": [
       "            a         b\n",
       "0    1.703191  0.163323\n",
       "1   -0.378239  0.339504\n",
       "2    1.504777 -0.276439\n",
       "3    0.657051  1.424945\n",
       "4    1.317594  0.732926\n",
       "..        ...       ...\n",
       "995 -0.966265  0.387232\n",
       "996 -0.127951 -0.939053\n",
       "997 -0.610412 -0.061193\n",
       "998 -0.208379  2.899045\n",
       "999  0.492911  1.986106\n",
       "\n",
       "[1000 rows x 2 columns]"
      ]
     },
     "execution_count": 2,
     "metadata": {},
     "output_type": "execute_result"
    }
   ],
   "source": [
    "a = np.random.normal(\n",
    "    loc   = 0,\t\t# 平均\n",
    "    scale = 1,\t\t# 標準偏差\n",
    "    size  = 1000,\t# 出力配列のサイズ(タプルも可)\n",
    ")\n",
    "\n",
    "b = np.random.normal(\n",
    "    loc   = 1,\t\t# 平均\n",
    "    scale = 1,\t\t# 標準偏差\n",
    "    size  = 1000,\t# 出力配列のサイズ(タプルも可)\n",
    ")\n",
    "\n",
    "df = pd.DataFrame({'a': a, 'b': b})\n",
    "df"
   ]
  },
  {
   "cell_type": "code",
   "execution_count": 3,
   "metadata": {},
   "outputs": [
    {
     "data": {
      "text/plain": [
       "(array([[  7.,  28., 125., 250., 293., 178.,  93.,  23.,   3.,   0.],\n",
       "        [  1.,   4.,  15.,  74., 209., 286., 257., 115.,  33.,   6.]]),\n",
       " array([-3.29706525, -2.54252339, -1.78798154, -1.03343968, -0.27889782,\n",
       "         0.47564403,  1.23018589,  1.98472775,  2.7392696 ,  3.49381146,\n",
       "         4.24835332]),\n",
       " <a list of 2 BarContainer objects>)"
      ]
     },
     "execution_count": 3,
     "metadata": {},
     "output_type": "execute_result"
    },
    {
     "data": {
      "image/png": "[encoded data removed]",
      "text/plain": [
       "<Figure size 640x480 with 1 Axes>"
      ]
     },
     "metadata": {},
     "output_type": "display_data"
    }
   ],
   "source": [
    "fig = plt.figure()\n",
    "ax = fig.add_subplot(1,1,1)\n",
    "x1 = df['a']\n",
    "x2 = df['b']\n",
    "\n",
    "ax.hist([x1, x2])"
   ]
  }
 ],
 "metadata": {
  "kernelspec": {
   "display_name": "Python 3.10.8 ('venv': venv)",
   "language": "python",
   "name": "python3"
  },
  "language_info": {
   "codemirror_mode": {
    "name": "ipython",
    "version": 3
   },
   "file_extension": ".py",
   "mimetype": "text/x-python",
   "name": "python",
   "nbconvert_exporter": "python",
   "pygments_lexer": "ipython3",
   "version": "3.10.8"
  },
  "orig_nbformat": 4,
  "vscode": {
   "interpreter": {
    "hash": "071f0adee1c15ae71ce01da696b3a929f4841cfc0cab0b60e2c981bc8ec3cad0"
   }
  }
 },
 "nbformat": 4,
 "nbformat_minor": 2
}
