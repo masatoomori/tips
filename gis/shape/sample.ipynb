{
 "cells": [
  {
   "cell_type": "code",
   "execution_count": null,
   "metadata": {
    "colab": {
     "base_uri": "https://localhost:8080/"
    },
    "executionInfo": {
     "elapsed": 277,
     "status": "ok",
     "timestamp": 1622428854423,
     "user": {
      "displayName": "M O",
      "photoUrl": "",
      "userId": "00065305947403813662"
     },
     "user_tz": -540
    },
    "id": "DBAihPFAX4bL",
    "outputId": "4a405128-017a-46ea-cdfd-0efb4a8c18f3"
   },
   "outputs": [],
   "source": [
    "!which python\n",
    "!python -V"
   ]
  },
  {
   "cell_type": "code",
   "execution_count": null,
   "metadata": {},
   "outputs": [],
   "source": [
    "%load_ext autoreload\n",
    "%autoreload 2"
   ]
  },
  {
   "cell_type": "markdown",
   "metadata": {},
   "source": [
    "# パッケージインストール"
   ]
  },
  {
   "cell_type": "code",
   "execution_count": null,
   "metadata": {},
   "outputs": [],
   "source": [
    "# "
   ]
  },
  {
   "cell_type": "markdown",
   "metadata": {},
   "source": [
    "# データソース：\n",
    "\n",
    "## 市区町村データ\n",
    "\n",
    "[全国市区町村界データ](https://www.esrij.com/products/japan-shp/)を解凍する\n",
    "\n",
    "## 鉄道データ\n",
    "\n",
    "[駅データ](https://ekidata.jp/)で無料会員としてログイン後、下記データをダウンロードする\n",
    "\n",
    "- 事業者データ\n",
    "- 路線データ\n",
    "- 駅データ\n",
    "- 接続駅データ\n",
    "\n",
    "# データ保存場所\n",
    "\n",
    "実行スクリプトと同じディレクトリ以下に data を作成し、解凍したディレクトリをコピーする"
   ]
  },
  {
   "cell_type": "code",
   "execution_count": null,
   "metadata": {},
   "outputs": [],
   "source": [
    "!ls -R ./data"
   ]
  },
  {
   "cell_type": "code",
   "execution_count": null,
   "metadata": {
    "colab": {
     "base_uri": "https://localhost:8080/"
    },
    "executionInfo": {
     "elapsed": 1201,
     "status": "ok",
     "timestamp": 1622428897304,
     "user": {
      "displayName": "M O",
      "photoUrl": "",
      "userId": "00065305947403813662"
     },
     "user_tz": -540
    },
    "id": "I_BdlD-AYe-X",
    "outputId": "0db5bb43-30a5-414f-d063-0bd37fac7f18"
   },
   "outputs": [],
   "source": [
    "import os\n",
    "import json\n",
    "\n",
    "import pandas as pd\n",
    "import geopandas as gpd"
   ]
  },
  {
   "cell_type": "code",
   "execution_count": null,
   "metadata": {},
   "outputs": [],
   "source": [
    "DATA_PATH = os.path.join(os.curdir, 'data')"
   ]
  },
  {
   "cell_type": "code",
   "execution_count": null,
   "metadata": {},
   "outputs": [],
   "source": [
    "gdf_city = gpd.read_file(os.path.join(DATA_PATH, 'japan_ver83', 'japan_ver83.shp'))"
   ]
  },
  {
   "cell_type": "code",
   "execution_count": null,
   "metadata": {},
   "outputs": [],
   "source": [
    "gdf_city.head()"
   ]
  },
  {
   "cell_type": "code",
   "execution_count": null,
   "metadata": {},
   "outputs": [],
   "source": [
    "gdf_city.plot()"
   ]
  },
  {
   "cell_type": "code",
   "execution_count": null,
   "metadata": {},
   "outputs": [],
   "source": [
    "df_station = pd.read_csv(os.path.join(DATA_PATH, 'railway', 'station20210312free.csv'), encoding='utf8')\n",
    "gdf_station = gpd.GeoDataFrame(df_station, geometry=gpd.points_from_xy(df_station['lon'], df_station['lat']))"
   ]
  },
  {
   "cell_type": "code",
   "execution_count": null,
   "metadata": {},
   "outputs": [],
   "source": [
    "df_station "
   ]
  }
 ],
 "metadata": {
  "colab": {
   "collapsed_sections": [
    "MSO7otkMobwG"
   ],
   "name": "download_original_data.ipynb",
   "provenance": [
    {
     "file_id": "1Rmc017aidmQNIo_t9jKVx_fZPvNYup0M",
     "timestamp": 1621412221757
    }
   ],
   "toc_visible": true
  },
  "kernelspec": {
   "display_name": "Python 3",
   "language": "python",
   "name": "python3"
  },
  "language_info": {
   "codemirror_mode": {
    "name": "ipython",
    "version": 3
   },
   "file_extension": ".py",
   "mimetype": "text/x-python",
   "name": "python",
   "nbconvert_exporter": "python",
   "pygments_lexer": "ipython3",
   "version": "3.8.10"
  }
 },
 "nbformat": 4,
 "nbformat_minor": 4
}
