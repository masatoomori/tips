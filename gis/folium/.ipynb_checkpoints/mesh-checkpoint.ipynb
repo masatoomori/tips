{
 "cells": [
  {
   "cell_type": "code",
   "execution_count": null,
   "metadata": {
    "executionInfo": {
     "elapsed": 663,
     "status": "ok",
     "timestamp": 1615366601784,
     "user": {
      "displayName": "M O",
      "photoUrl": "",
      "userId": "00065305947403813662"
     },
     "user_tz": -540
    },
    "id": "edNQ0KwyHIhV"
   },
   "outputs": [],
   "source": [
    "import numpy as np\n",
    "import matplotlib.pyplot as plt\n",
    "import matplotlib as mpl\n",
    "import folium\n",
    "from folium.plugins import MarkerCluster"
   ]
  },
  {
   "cell_type": "code",
   "execution_count": null,
   "metadata": {
    "executionInfo": {
     "elapsed": 465,
     "status": "ok",
     "timestamp": 1615366602102,
     "user": {
      "displayName": "M O",
      "photoUrl": "",
      "userId": "00065305947403813662"
     },
     "user_tz": -540
    },
    "id": "y9PUxXm_HNGp"
   },
   "outputs": [],
   "source": [
    "def get_geojson_grid(upper_right, lower_left, n=6):\n",
    "  \"\"\"Returns a grid of geojson rectangles, and computes the exposure in each section of the grid based on the vessel data.\n",
    "\n",
    "  Parameters\n",
    "  ----------\n",
    "  upper_right: array_like\n",
    "    The upper right hand corner of \"grid of grids\" (the default is the upper right hand [lat, lon] of the USA).\n",
    "\n",
    "  lower_left: array_like\n",
    "    The lower left hand corner of \"grid of grids\"  (the default is the lower left hand [lat, lon] of the USA).\n",
    "\n",
    "  n: integer\n",
    "    The number of rows/columns in the (n,n) grid.\n",
    "\n",
    "  Returns\n",
    "  -------\n",
    "\n",
    "  list\n",
    "    List of \"geojson style\" dictionary objects   \n",
    "  \"\"\"\n",
    "\n",
    "  all_boxes = []\n",
    "\n",
    "  lat_steps = np.linspace(lower_left[0], upper_right[0], n+1)\n",
    "  lon_steps = np.linspace(lower_left[1], upper_right[1], n+1)\n",
    "\n",
    "  lat_stride = lat_steps[1] - lat_steps[0]\n",
    "  lon_stride = lon_steps[1] - lon_steps[0]\n",
    "\n",
    "  for lat in lat_steps[:-1]:\n",
    "    for lon in lon_steps[:-1]:\n",
    "      # Define dimensions of box in grid\n",
    "      upper_left = [lon, lat + lat_stride]\n",
    "      upper_right = [lon + lon_stride, lat + lat_stride]\n",
    "      lower_right = [lon + lon_stride, lat]\n",
    "      lower_left = [lon, lat]\n",
    "\n",
    "      # Define json coordinates for polygon\n",
    "      coordinates = [upper_left, upper_right, lower_right, lower_left, upper_left]\n",
    "\n",
    "      geo_json = {\n",
    "        \"type\": \"FeatureCollection\",\n",
    "        \"properties\": {\n",
    "          \"lower_left\": lower_left,\n",
    "          \"upper_right\": upper_right\n",
    "        }, \n",
    "        \"features\":[]\n",
    "      }\n",
    "\n",
    "      grid_feature = {\n",
    "        \"type\":\"Feature\",\n",
    "        \"geometry\": {\n",
    "          \"type\": \"Polygon\",\n",
    "          \"coordinates\": [coordinates],\n",
    "        }\n",
    "      }\n",
    "\n",
    "      geo_json[\"features\"].append(grid_feature)\n",
    "\n",
    "      all_boxes.append(geo_json)\n",
    "\n",
    "  return all_boxes"
   ]
  },
  {
   "cell_type": "code",
   "execution_count": null,
   "metadata": {
    "colab": {
     "base_uri": "https://localhost:8080/",
     "height": 1000,
     "output_embedded_package_id": "1JujWE4p4PBht1NFyVjaR36KvxS0-dAsA"
    },
    "executionInfo": {
     "elapsed": 23533,
     "status": "ok",
     "timestamp": 1615366625774,
     "user": {
      "displayName": "M O",
      "photoUrl": "",
      "userId": "00065305947403813662"
     },
     "user_tz": -540
    },
    "id": "Y8g34I3KIW1m",
    "outputId": "74c4e88d-6584-4f88-9aa2-4ef08ee27034"
   },
   "outputs": [],
   "source": [
    "lower_left = [35., 139]\n",
    "upper_right = [36.5, 141]\n",
    "\n",
    "# 日本橋\n",
    "lat = 35.684131\n",
    "lng = 139.774103\n",
    "m = folium.Map(location=[lat, lng],     # 日本橋を中心\n",
    "               zoom_start=10,\n",
    "               tiles='cartodbpositron')\n",
    "\n",
    "grid = get_geojson_grid(upper_right, lower_left, n=96)\n",
    "\n",
    "for i, geo_json in enumerate(grid):\n",
    "\n",
    "  color = plt.cm.Reds(i / len(grid))\n",
    "  color = mpl.colors.to_hex(color)\n",
    "\n",
    "  gj = folium.GeoJson(geo_json,\n",
    "                      style_function=lambda feature, color=color: {'fillColor': color,\n",
    "                                                                   'color': \"black\",\n",
    "                                                                   'weight': 0.1,\n",
    "                                                                   'dashArray': '5, 5',\n",
    "                                                                   'fillOpacity': 0.5,\n",
    "                                                                  })\n",
    "  popup = folium.Popup(\"example popup {}\".format(i))\n",
    "  gj.add_child(popup)\n",
    "\n",
    "  m.add_child(gj)\n",
    "m"
   ]
  },
  {
   "cell_type": "code",
   "execution_count": null,
   "metadata": {
    "colab": {
     "base_uri": "https://localhost:8080/",
     "output_embedded_package_id": "1doJESnWOK6dCwNeumftV4P7kBRYqwkjq"
    },
    "executionInfo": {
     "elapsed": 22504,
     "status": "ok",
     "timestamp": 1615366625775,
     "user": {
      "displayName": "M O",
      "photoUrl": "",
      "userId": "00065305947403813662"
     },
     "user_tz": -540
    },
    "id": "OYmvDxtmInHl",
    "outputId": "a436cb35-511a-4e44-f40b-83b8f3b50459"
   },
   "outputs": [],
   "source": [
    "for i, geo_json in enumerate(grid):\n",
    "  print(geo_json)"
   ]
  }
 ],
 "metadata": {
  "colab": {
   "authorship_tag": "ABX9TyO8vhi311QgB0JOY30MC6SV",
   "name": "mesh.ipynb",
   "provenance": []
  },
  "kernelspec": {
   "display_name": "Python 3",
   "language": "python",
   "name": "python3"
  },
  "language_info": {
   "codemirror_mode": {
    "name": "ipython",
    "version": 3
   },
   "file_extension": ".py",
   "mimetype": "text/x-python",
   "name": "python",
   "nbconvert_exporter": "python",
   "pygments_lexer": "ipython3",
   "version": "3.9.4"
  }
 },
 "nbformat": 4,
 "nbformat_minor": 1
}
