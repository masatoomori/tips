{
 "cells": [
  {
   "cell_type": "markdown",
   "metadata": {
    "id": "HJqgZYyZFuam"
   },
   "source": [
    "# Folium \n",
    "Python data, leaflet.js maps\n",
    "* 本家\n",
    " * https://python-visualization.github.io/folium/\n",
    " * https://github.com/python-visualization/folium/tree/master/examples\n",
    "   * 例が沢山あります\n",
    "   * JupyterNotebook での例\n",
    "   * https://nbviewer.jupyter.org/github/python-visualization/folium/tree/master/examples/\n",
    "* チートシート\n",
    " * https://www.andrewchallis.co.uk/portfolio/python-a-folium-cheatsheet/\n",
    " * https://andrewchallis.co.uk/wp-content/uploads/2017/12/Folium.pdf\n",
    "\n",
    "* 簡単な使い方\n",
    " * https://qiita.com/pork_steak/items/f551fa09794831100faa\n",
    "* 本格的な使い方\n",
    " * https://takaishikawa42.hatenablog.com/entry/2019/01/11/234716\n",
    "\n",
    "* Google colab で使っている例\n",
    " * https://tech.actindi.net/2018/09/28/083000\n",
    "\n",
    "* Python のGEO/GIS関係のライブラリー例\n",
    " * https://www.gis-py.com/entry/2018/12/26/170327\n",
    "\n"
   ]
  },
  {
   "cell_type": "markdown",
   "metadata": {
    "id": "4DKIrTpSOliq"
   },
   "source": [
    "\n",
    "\n",
    "---\n",
    "\n"
   ]
  },
  {
   "cell_type": "markdown",
   "metadata": {
    "id": "YvFnUVBDIZLY"
   },
   "source": [
    "folium はじめから入ってました（笑）"
   ]
  },
  {
   "cell_type": "code",
   "execution_count": null,
   "metadata": {
    "id": "WmvnBFEDFaWn"
   },
   "outputs": [],
   "source": [
    "# !pip install folium"
   ]
  },
  {
   "cell_type": "markdown",
   "metadata": {
    "id": "IOsLP01VIePf"
   },
   "source": [
    "シェー公園の位置を出してみる\n",
    "https://www.google.co.jp/maps/place/%E8%8A%B1%E5%8D%97%E7%AC%AC%EF%BC%91%E5%85%90%E7%AB%A5%E5%85%AC%E5%9C%92/@35.7237788,139.5104503,19z/data=!4m5!3m4!1s0x0:0x9a77393fadb67882!8m2!3d35.7243479!4d139.5107432?hl=ja"
   ]
  },
  {
   "cell_type": "code",
   "execution_count": null,
   "metadata": {
    "id": "YpuVx6BfKZCo"
   },
   "outputs": [],
   "source": [
    "import folium"
   ]
  },
  {
   "cell_type": "code",
   "execution_count": null,
   "metadata": {
    "colab": {
     "base_uri": "https://localhost:8080/",
     "height": 773
    },
    "executionInfo": {
     "elapsed": 675,
     "status": "ok",
     "timestamp": 1600164261159,
     "user": {
      "displayName": "M O",
      "photoUrl": "",
      "userId": "00065305947403813662"
     },
     "user_tz": -540
    },
    "id": "Uw08vVehEYGN",
    "outputId": "59c11c5b-c04a-43df-b253-5fabae113ea9"
   },
   "outputs": [],
   "source": [
    "# ズームレベル20で、中心座標にして、地図を作る\n",
    "m = folium.Map(location=[35.7243645,139.5105908], zoom_start=20)\n",
    "#マーカーに、ポップアップと、クリックミーを付ける\n",
    "folium.Marker([35.7243645,139.5105908],popup='シェー公園',tooltip='click me').add_to(m)\n",
    "#セーブする\n",
    "m.save(\"sheeePark.html\")\n",
    "#表示する\n",
    "m"
   ]
  },
  {
   "cell_type": "code",
   "execution_count": null,
   "metadata": {
    "colab": {
     "base_uri": "https://localhost:8080/",
     "height": 425
    },
    "id": "qpYQYWUgO-P-",
    "outputId": "f2420e15-62f4-4fcc-d71f-efaed359ef9d"
   },
   "outputs": [],
   "source": [
    "# htmlを見てみる\n",
    "!ls\n",
    "!more sheeePark.html"
   ]
  },
  {
   "cell_type": "markdown",
   "metadata": {
    "id": "WymEkXb9Vszc"
   },
   "source": [
    "ファイルダウンロードして、おいてみました。\n",
    "\n"
   ]
  },
  {
   "cell_type": "code",
   "execution_count": null,
   "metadata": {
    "id": "rNFE6m-KUxFn"
   },
   "outputs": [],
   "source": [
    "from google.colab import files\n",
    "\n",
    "files.download('sheePark2.html')"
   ]
  },
  {
   "cell_type": "markdown",
   "metadata": {
    "id": "WIc4EcSsPZG3"
   },
   "source": [
    "地図だけなら、このHTMLをサーバーに置けば表示できますね。\n",
    "https://tom2rd.sakura.ne.jp/hanakotech/parkmap/sheeePark.html"
   ]
  },
  {
   "cell_type": "markdown",
   "metadata": {
    "id": "ZFgk6y4auEYr"
   },
   "source": [
    "Marker \n",
    "\n",
    "* 以下のプラグインを入れるといろいろマーカーがいじれるらしい\n",
    "* https://nbviewer.jupyter.org/github/python-visualization/folium/blob/master/examples/Plugins.ipynb\n",
    "* https://github.com/marslan390/BeautifyMarker\n",
    "\n",
    "Marker Iconは、こちらのフォント類が使えます\n",
    "* https://glyphsearch.com/?library=font-awesome\n",
    "\n",
    "他の例\n",
    "* https://leafletjs.com/examples/custom-icons/\n"
   ]
  },
  {
   "cell_type": "code",
   "execution_count": null,
   "metadata": {
    "colab": {
     "base_uri": "https://localhost:8080/",
     "height": 773
    },
    "executionInfo": {
     "elapsed": 875,
     "status": "ok",
     "timestamp": 1600164287315,
     "user": {
      "displayName": "M O",
      "photoUrl": "",
      "userId": "00065305947403813662"
     },
     "user_tz": -540
    },
    "id": "BgbNobBKXKLQ",
    "outputId": "adb67eb2-12e0-4da9-9c70-2b0493ceb8b2"
   },
   "outputs": [],
   "source": [
    "from folium import plugins\n",
    "# ズームレベル20で、中心座標にして、地図を作る\n",
    "m = folium.Map(location=[35.7243645,139.5105908], zoom_start=20)\n",
    "#マーカーに、ポップアップと、クリックミーを付ける\n",
    "folium.Marker([35.7243645,139.5105908],\n",
    "              popup='<h2>シェー公園</h2>',\n",
    "              tooltip=\"シェー公園\",\n",
    "              icon=folium.plugins.BeautifyIcon(icon='tree')).add_to(m)\n",
    "#セーブする\n",
    "m.save(\"sheeePark.html\")\n",
    "#表示する\n",
    "m"
   ]
  },
  {
   "cell_type": "markdown",
   "metadata": {
    "id": "9mCBEJY71AxV"
   },
   "source": [
    "Float image を追加\n",
    "\n",
    "* いろんなアセットが使えます \n",
    "*  https://github.com/SECOORA/static_assets\n"
   ]
  },
  {
   "cell_type": "code",
   "execution_count": null,
   "metadata": {
    "colab": {
     "base_uri": "https://localhost:8080/",
     "height": 658
    },
    "id": "idu6Nia52UZh",
    "outputId": "4e1ab75b-3342-4fc4-b7a3-d7efe2f5f4f7"
   },
   "outputs": [],
   "source": [
    "import os\n",
    "from folium.plugins import FloatImage\n",
    "\n",
    "url = ('https://raw.githubusercontent.com/SECOORA/static_assets/'\n",
    "       'master/maps/img/rose.png')\n",
    "m = folium.Map(location=[35.7243645,139.5105908], zoom_start=20)\n",
    "#マーカーに、ポップアップと、クリックミーを付ける\n",
    "folium.Marker([35.7243645,139.5105908],\n",
    "              popup='<h2>シェー公園</h2>',\n",
    "              tooltip=\"シェー公園\",\n",
    "              icon=folium.plugins.BeautifyIcon(icon='tree')).add_to(m)\n",
    "FloatImage(url, bottom=40, left=65).add_to(m)\n",
    "\n",
    "#セーブする\n",
    "m.save('sheePark.html')\n",
    "m"
   ]
  },
  {
   "cell_type": "markdown",
   "metadata": {
    "id": "RivbKydc5Vfx"
   },
   "source": [
    "Dual map も書ける\n",
    "\n",
    "https://nbviewer.jupyter.org/github/python-visualization/folium/blob/master/examples/plugin-DualMap.ipynb"
   ]
  },
  {
   "cell_type": "code",
   "execution_count": null,
   "metadata": {
    "colab": {
     "base_uri": "https://localhost:8080/",
     "height": 658
    },
    "id": "y9H5IJD_5aAz",
    "outputId": "bdb95940-4ac9-4677-cb2f-cad5b4cdc344"
   },
   "outputs": [],
   "source": [
    "m = folium.plugins.DualMap(location=(35.7243645,139.5105908),tiles=None, zoom_start=16)\n",
    "\n",
    "fg_both = folium.FeatureGroup(name='markers_both').add_to(m)\n",
    "fg_1 = folium.FeatureGroup(name='markers_1').add_to(m.m1)\n",
    "fg_2 = folium.FeatureGroup(name='markers_2').add_to(m.m2)\n",
    "folium.TileLayer('openstreetmap').add_to(m.m1)\n",
    "folium.TileLayer('cartodbpositron').add_to(m.m2)\n",
    "\n",
    "icon_red = folium.Icon(color='red')\n",
    "folium.Marker((35.7243645,139.5105908), tooltip='both', icon=icon_red).add_to(fg_both)\n",
    "folium.Marker((35.7243645,139.5116918), tooltip='1').add_to(fg_1)\n",
    "folium.Marker((35.7243645,139.5105938), tooltip='2').add_to(fg_2)\n",
    "\n",
    "\n",
    "folium.LayerControl(collapsed=False).add_to(m)\n",
    "m.save('sheePark2.html')\n",
    "m"
   ]
  },
  {
   "cell_type": "markdown",
   "metadata": {
    "id": "qj9VGsPU7nbZ"
   },
   "source": [
    "これもHTMLができるので、そのまま出すのも便利かも\n",
    "\n",
    "https://tom2rd.sakura.ne.jp/hanakotech/parkmap/sheePark2.html"
   ]
  }
 ],
 "metadata": {
  "colab": {
   "name": "folium_map_example.ipynb",
   "provenance": [
    {
     "file_id": "https://github.com/tom2rd/Googlecolabutils/blob/master/folium_map_example.ipynb",
     "timestamp": 1600160390590
    }
   ],
   "toc_visible": true
  },
  "kernelspec": {
   "display_name": "Python 3",
   "language": "python",
   "name": "python3"
  },
  "language_info": {
   "codemirror_mode": {
    "name": "ipython",
    "version": 3
   },
   "file_extension": ".py",
   "mimetype": "text/x-python",
   "name": "python",
   "nbconvert_exporter": "python",
   "pygments_lexer": "ipython3",
   "version": "3.9.4"
  }
 },
 "nbformat": 4,
 "nbformat_minor": 1
}
